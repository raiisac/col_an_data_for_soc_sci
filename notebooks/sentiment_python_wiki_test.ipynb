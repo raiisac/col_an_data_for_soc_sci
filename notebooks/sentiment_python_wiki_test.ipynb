{
 "cells": [
  {
   "cell_type": "code",
   "execution_count": 16,
   "id": "fd8c149c",
   "metadata": {},
   "outputs": [
    {
     "name": "stdout",
     "output_type": "stream",
     "text": [
      "Text scraped from Wikipedia page and saved into 'wikipedia_text.txt' file.\n"
     ]
    }
   ],
   "source": [
    "import requests\n",
    "from bs4 import BeautifulSoup\n",
    "\n",
    "def scrape_wikipedia_page(url):\n",
    "    response = requests.get(url)\n",
    "    \n",
    "    soup = BeautifulSoup(response.text, 'html.parser')\n",
    "    \n",
    "    paragraphs = soup.find_all('p')\n",
    "    \n",
    "    text = '\\n'.join([p.get_text() for p in paragraphs])\n",
    "    \n",
    "    return text\n",
    "\n",
    "url = 'https://en.wikipedia.org/wiki/Israeli%E2%80%93Palestinian_conflict'\n",
    "\n",
    "page_text_en = scrape_wikipedia_page(url)\n",
    "\n",
    "with open('wikipedia_text.txt', 'w', encoding='utf-8') as file:\n",
    "    file.write(page_text)\n",
    "\n",
    "print(\"Text scraped from Wikipedia page and saved into 'wikipedia_text.txt' file.\")"
   ]
  },
  {
   "cell_type": "code",
   "execution_count": 17,
   "id": "a4220141",
   "metadata": {
    "scrolled": true
   },
   "outputs": [
    {
     "name": "stdout",
     "output_type": "stream",
     "text": [
      "Sentiment Analysis:\n",
      "Polarity: 0.054531080361437466\n",
      "Subjectivity: 0.34115306188520456\n"
     ]
    }
   ],
   "source": [
    "from textblob import TextBlob\n",
    "\n",
    "blob = TextBlob(page_text_en)\n",
    "sentiment = blob.sentiment\n",
    "\n",
    "print(\"Sentiment Analysis:\")\n",
    "print(\"Polarity:\", sentiment.polarity)\n",
    "print(\"Subjectivity:\", sentiment.subjectivity)"
   ]
  },
  {
   "cell_type": "code",
   "execution_count": 18,
   "id": "36cba156",
   "metadata": {},
   "outputs": [
    {
     "name": "stdout",
     "output_type": "stream",
     "text": [
      "Sentiment Analysis:\n",
      "Polarity: 0.2857142857142857\n",
      "Subjectivity: 0.5357142857142857\n"
     ]
    }
   ],
   "source": [
    "url = 'https://zh.wikipedia.org/wiki/%E4%BB%A5%E5%B7%B4%E5%86%B2%E7%AA%81'\n",
    "    \n",
    "page_text_cn = scrape_wikipedia_page(url)\n",
    "\n",
    "blob = TextBlob(page_text_cn)\n",
    "sentiment = blob.sentiment\n",
    "\n",
    "print(\"Sentiment Analysis:\")\n",
    "print(\"Polarity:\", sentiment.polarity)\n",
    "print(\"Subjectivity:\", sentiment.subjectivity)"
   ]
  },
  {
   "cell_type": "markdown",
   "id": "e6a06f16",
   "metadata": {},
   "source": [
    "This code will analyze the sentiment (polarity and subjectivity) of the provided text using TextBlob. The polarity score ranges from -1 to 1, where -1 indicates negative sentiment, 0 indicates neutral sentiment, and 1 indicates positive sentiment. The subjectivity score ranges from 0 to 1, where 0 indicates objective text and 1 indicates subjective text."
   ]
  },
  {
   "cell_type": "code",
   "execution_count": 21,
   "id": "0eda4210",
   "metadata": {},
   "outputs": [
    {
     "name": "stdout",
     "output_type": "stream",
     "text": [
      "Sentiment Analysis:\n",
      "Polarity: 0.05141592831690635\n",
      "Subjectivity: 0.26838475117203703\n"
     ]
    }
   ],
   "source": [
    "# check World war 2\n",
    "url = 'https://en.wikipedia.org/wiki/World_War_II'\n",
    "    \n",
    "page_text_World_War_II = scrape_wikipedia_page(url)\n",
    "\n",
    "blob = TextBlob(page_text_World_War_II)\n",
    "sentiment = blob.sentiment\n",
    "\n",
    "print(\"Sentiment Analysis:\")\n",
    "print(\"Polarity:\", sentiment.polarity)\n",
    "print(\"Subjectivity:\", sentiment.subjectivity)"
   ]
  },
  {
   "cell_type": "code",
   "execution_count": 22,
   "id": "44b2b4da",
   "metadata": {},
   "outputs": [
    {
     "name": "stdout",
     "output_type": "stream",
     "text": [
      "Sentiment Analysis:\n",
      "Polarity: 0.04800917957544462\n",
      "Subjectivity: 0.36272386248289856\n"
     ]
    }
   ],
   "source": [
    "url = 'https://en.wikipedia.org/wiki/Dragon_Boat_Festival'\n",
    "\n",
    "chinese_festival = scrape_wikipedia_page(url)\n",
    "\n",
    "blob = TextBlob(chinese_festival)\n",
    "sentiment = blob.sentiment\n",
    "\n",
    "print(\"Sentiment Analysis:\")\n",
    "print(\"Polarity:\", sentiment.polarity)\n",
    "print(\"Subjectivity:\", sentiment.subjectivity)"
   ]
  }
 ],
 "metadata": {
  "kernelspec": {
   "display_name": "Python 3 (ipykernel)",
   "language": "python",
   "name": "python3"
  },
  "language_info": {
   "codemirror_mode": {
    "name": "ipython",
    "version": 3
   },
   "file_extension": ".py",
   "mimetype": "text/x-python",
   "name": "python",
   "nbconvert_exporter": "python",
   "pygments_lexer": "ipython3",
   "version": "3.9.13"
  }
 },
 "nbformat": 4,
 "nbformat_minor": 5
}
